{
 "cells": [
  {
   "cell_type": "markdown",
   "metadata": {},
   "source": [
    "# Tutorial 3 - Fundamental ML Algorithms Part I"
   ]
  },
  {
   "cell_type": "code",
   "execution_count": null,
   "metadata": {
    "ExecuteTime": {
     "end_time": "2018-10-20T04:33:13.088220Z",
     "start_time": "2018-10-20T04:33:12.754941Z"
    }
   },
   "outputs": [],
   "source": [
    "import pandas as pd\n",
    "import numpy as np\n",
    "\n",
    "from sklearn.linear_model import LinearRegression as LR\n",
    "from sklearn import tree\n",
    "from sklearn.linear_model import LogisticRegression as LogReg\n",
    "from sklearn.model_selection import train_test_split\n",
    "\n",
    "import matplotlib.pyplot as plt\n",
    "import matplotlib.image as mpimg\n",
    "# import graphviz"
   ]
  },
  {
   "cell_type": "markdown",
   "metadata": {},
   "source": [
    "### 1. Linear Regression"
   ]
  },
  {
   "cell_type": "markdown",
   "metadata": {},
   "source": [
    "We wish the predict the energy output of a certain date, given information on current temperature and pressure readings"
   ]
  },
  {
   "cell_type": "code",
   "execution_count": null,
   "metadata": {
    "ExecuteTime": {
     "end_time": "2018-10-20T04:16:52.501732Z",
     "start_time": "2018-10-20T04:16:52.314473Z"
    }
   },
   "outputs": [],
   "source": [
    "# Load dataset for linear regression, and inspect it\n",
    "\n",
    "### FILL IN ###\n",
    "df_energy.head(5)"
   ]
  },
  {
   "cell_type": "code",
   "execution_count": null,
   "metadata": {
    "ExecuteTime": {
     "end_time": "2018-10-20T04:16:53.283996Z",
     "start_time": "2018-10-20T04:16:53.216224Z"
    }
   },
   "outputs": [],
   "source": [
    "# Remove date column, rv1, and rv2 columns \n",
    "df_energy.drop('date', axis=1, inplace=True) # axis=1 to indicate we're dropping a column, inplace means to not make a copy\n",
    "df_energy.drop('rv1', axis=1, inplace=True)\n",
    "df_energy.drop('rv2', axis=1, inplace=True)\n",
    "\n",
    "# Inspect modified dataset\n",
    "### FILL IN ###"
   ]
  },
  {
   "cell_type": "code",
   "execution_count": null,
   "metadata": {
    "ExecuteTime": {
     "end_time": "2018-10-20T04:16:54.019440Z",
     "start_time": "2018-10-20T04:16:53.968849Z"
    }
   },
   "outputs": [],
   "source": [
    "# Sum appliances and lights for total energy\n",
    "\n",
    "### FILL IN ###\n",
    "df_energy.head(5)"
   ]
  },
  {
   "cell_type": "code",
   "execution_count": null,
   "metadata": {
    "ExecuteTime": {
     "end_time": "2018-10-20T04:16:55.050538Z",
     "start_time": "2018-10-20T04:16:54.981300Z"
    }
   },
   "outputs": [],
   "source": [
    "# Then drop appliances and lights, as they are now redundant features\n",
    "\n",
    "df_energy.drop('Appliances', axis=1, inplace=True)\n",
    "df_energy.drop('lights', axis=1, inplace=True)\n",
    "df_energy.head(5)"
   ]
  },
  {
   "cell_type": "code",
   "execution_count": null,
   "metadata": {
    "ExecuteTime": {
     "end_time": "2018-10-20T04:16:55.897261Z",
     "start_time": "2018-10-20T04:16:55.848494Z"
    },
    "code_folding": []
   },
   "outputs": [],
   "source": [
    "# Split the dataset into features and labels for training, testing\n",
    "\n",
    "### FILL IN ###\n",
    "df_energy_X.head(5)"
   ]
  },
  {
   "cell_type": "code",
   "execution_count": null,
   "metadata": {
    "ExecuteTime": {
     "end_time": "2018-10-19T02:34:44.406540Z",
     "start_time": "2018-10-19T02:34:44.393274Z"
    },
    "code_folding": []
   },
   "outputs": [],
   "source": [
    "df_energy_y.head(5)"
   ]
  },
  {
   "cell_type": "code",
   "execution_count": null,
   "metadata": {
    "ExecuteTime": {
     "end_time": "2018-10-20T04:33:19.394285Z",
     "start_time": "2018-10-20T04:33:19.068177Z"
    }
   },
   "outputs": [],
   "source": [
    "def PF(X, degree):\n",
    "    \"\"\"phi(X) polynomial expansion\n",
    "    \n",
    "    Method that takes in dataframe, and degree of polynomial\n",
    "    and outputs polynomial expansion of dataframe\n",
    "    \"\"\"\n",
    "    \n",
    "    X = np.asarray(X)\n",
    "    tmp_raise = X\n",
    "    for i in range(2, degree+1):\n",
    "        tmp_raise = np.append(tmp_raise, np.power(X, i), axis=1)\n",
    "    X = tmp_raise\n",
    "    finalarr = np.ones((X.shape[0], X.shape[1]+1))\n",
    "    finalarr[:,:-1] = X\n",
    "    return finalarr"
   ]
  },
  {
   "cell_type": "code",
   "execution_count": null,
   "metadata": {
    "ExecuteTime": {
     "end_time": "2018-10-20T04:33:19.920832Z",
     "start_time": "2018-10-20T04:33:19.917660Z"
    }
   },
   "outputs": [],
   "source": [
    "# Do 60-20-20 train_test_split for training set, validation set, and test set\n",
    "\n",
    "def split(X, y):\n",
    "    X_train, X_test, y_train, y_test = train_test_split(\n",
    "        X, y, test_size=0.4, random_state=42)\n",
    "\n",
    "    X_val, X_test, y_val, y_test = train_test_split(\n",
    "        X_test, y_test, test_size=0.5, random_state=42)\n",
    "\n",
    "    return X_train, X_val, X_test, y_train, y_val, y_test"
   ]
  },
  {
   "cell_type": "code",
   "execution_count": null,
   "metadata": {
    "ExecuteTime": {
     "end_time": "2018-10-19T21:45:57.700233Z",
     "start_time": "2018-10-19T21:45:51.183645Z"
    }
   },
   "outputs": [],
   "source": [
    "# Create list to store validation accuracy for different polynomial expansions\n",
    "validation_acc = []\n",
    "\n",
    "# For different polynomial bases, fit phi(x) into linear regression model, then compute R^2 = 1 - Rss/Rtot\n",
    "\n",
    "degree = 10\n",
    "for i in range(1,degree +1):\n",
    "    X_poly = PF(df_energy_X, i)\n",
    "    X_train, X_val, X_test, y_train, y_val, y_test = split(X_poly, df_energy_y)\n",
    "    \n",
    "    # Initialize linear reg model and fit data\n",
    "    \n",
    "    ### FILL IN ###\n",
    "    \n",
    "    print('Training set R^2 for degree {}: {}'.format(i, np.round(LR_model.score(X_train, y_train), 4)))\n",
    "    print('Validation set R^2 for degree {}: {} \\n'. format(i, np.round(LR_model.score(X_val, y_val),4)))\n",
    "    \n",
    "    validation_acc.append(np.round(LR_model.score(X_val, y_val),4))"
   ]
  },
  {
   "cell_type": "code",
   "execution_count": null,
   "metadata": {},
   "outputs": [],
   "source": [
    "# print out values of validation accuracy\n",
    "\n",
    "### FILL IN ###"
   ]
  },
  {
   "cell_type": "code",
   "execution_count": null,
   "metadata": {
    "ExecuteTime": {
     "end_time": "2018-10-19T21:45:57.946856Z",
     "start_time": "2018-10-19T21:45:57.716675Z"
    }
   },
   "outputs": [],
   "source": [
    "# Display validation R^2 for polynomials from degree 1 to 10\n",
    "\n",
    "plt.plot([i+1 for i in range(len(validation_acc))], validation_acc)\n",
    "plt.axis([1, degree, -0.1, 1]), plt.title('Validation Accuracy of Linear Regression on Different Polynomial Expansions of X')\n",
    "plt.show()"
   ]
  },
  {
   "cell_type": "markdown",
   "metadata": {},
   "source": [
    "### 2. Logistic Regression  on the MNIST Handwritten Digits Dataset"
   ]
  },
  {
   "cell_type": "markdown",
   "metadata": {},
   "source": [
    "### MNIST Dataset\n",
    "The Mnist Dataset is too large to be on github, you can download it here: https://pjreddie.com/media/files/mnist_train.csv"
   ]
  },
  {
   "cell_type": "code",
   "execution_count": null,
   "metadata": {
    "ExecuteTime": {
     "end_time": "2018-10-19T21:46:36.026778Z",
     "start_time": "2018-10-19T21:45:57.949015Z"
    }
   },
   "outputs": [],
   "source": [
    "np_mnist = np.loadtxt(open(\"mnist_train.csv\", \"rb\"), delimiter=\",\", skiprows=1)"
   ]
  },
  {
   "cell_type": "code",
   "execution_count": null,
   "metadata": {
    "ExecuteTime": {
     "end_time": "2018-10-19T21:46:36.165173Z",
     "start_time": "2018-10-19T21:46:36.029172Z"
    }
   },
   "outputs": [],
   "source": [
    "# Convert to pandas dataframe for easier manipulation\n",
    "\n",
    "### FILL IN ###\n",
    "df_mnist.shape"
   ]
  },
  {
   "cell_type": "code",
   "execution_count": null,
   "metadata": {
    "ExecuteTime": {
     "end_time": "2018-10-19T21:46:37.215836Z",
     "start_time": "2018-10-19T21:46:36.168635Z"
    }
   },
   "outputs": [],
   "source": [
    "df_mnist.rename(columns={0: 'label'}, inplace=True)\n",
    "\n",
    "# Display 5 sample values for 28x28 images\n",
    "### FILL IN ###"
   ]
  },
  {
   "cell_type": "code",
   "execution_count": null,
   "metadata": {
    "ExecuteTime": {
     "end_time": "2018-10-19T21:46:37.475485Z",
     "start_time": "2018-10-19T21:46:37.218832Z"
    }
   },
   "outputs": [],
   "source": [
    "# Separate features and labels\n",
    "df_mnist_X = df_mnist.drop('label', axis=1)\n",
    "df_mnist_y = df_mnist['label']"
   ]
  },
  {
   "cell_type": "code",
   "execution_count": null,
   "metadata": {
    "ExecuteTime": {
     "end_time": "2018-10-19T21:46:38.070136Z",
     "start_time": "2018-10-19T21:46:37.478044Z"
    }
   },
   "outputs": [],
   "source": [
    "# Use previous split helper method to split data in train, val, test sets\n",
    "X_train, X_val, X_test, y_train, y_val, y_test = ### FILL IN ###"
   ]
  },
  {
   "cell_type": "markdown",
   "metadata": {},
   "source": [
    "#### We attempt to classify the different digits in MNIST using logistic regression"
   ]
  },
  {
   "cell_type": "code",
   "execution_count": null,
   "metadata": {
    "ExecuteTime": {
     "end_time": "2018-10-19T21:47:41.966004Z",
     "start_time": "2018-10-19T21:46:38.072770Z"
    }
   },
   "outputs": [],
   "source": [
    "# When initializing, need to change optimization method for multiclass labels\n",
    "\n",
    "# Initialize log reg model with optimization method that can handle multinomial loss\n",
    "\n",
    "### FILL IN ###\n",
    "\n",
    "# Fit on training data\n",
    "\n",
    "print('Logistic Regression Training Accuracy: {}'.format(np.round(LRmodel.score(X_train, y_train), 5)))\n",
    "print('Logistic Regression Validation Accuracy: {}'.format(np.round(LRmodel.score(X_val, y_val), 5)))"
   ]
  },
  {
   "cell_type": "code",
   "execution_count": null,
   "metadata": {
    "ExecuteTime": {
     "end_time": "2018-10-19T21:50:41.887369Z",
     "start_time": "2018-10-19T21:50:41.882884Z"
    }
   },
   "outputs": [],
   "source": [
    "# Cross validation code that we won't run now, but you can try it in your own time\n",
    "# This should take approximately 10 minutes to run (go grab dinner in between?)\n",
    "# Recalling that C is inversely proportional to regularization strength\n",
    "\n",
    "'''\n",
    "for i in range(0.3, 1.3, 0.1):\n",
    "    LRmodel = LR(C=i, solver='lbfgs')\n",
    "    LRmodel.fit(X_train, y_train)\n",
    "    print('Logistic Regression Training Accuracy with C = {}: {}'\n",
    "         .format(i, LRmodel.score(X_train, y_train)))\n",
    "    print('Logistic Regression Validation Accuracy with C = {}: {}'\n",
    "         .format(i, LRmodel.score(X_val, y_val)))\n",
    "'''"
   ]
  },
  {
   "cell_type": "markdown",
   "metadata": {},
   "source": [
    "### 3. Decision Trees on the Iris dataset"
   ]
  },
  {
   "cell_type": "code",
   "execution_count": null,
   "metadata": {
    "ExecuteTime": {
     "end_time": "2018-10-20T04:33:31.530210Z",
     "start_time": "2018-10-20T04:33:31.502646Z"
    }
   },
   "outputs": [],
   "source": [
    "df_iris = ### FILL IN ###\n",
    "df_iris.head(10)"
   ]
  },
  {
   "cell_type": "code",
   "execution_count": null,
   "metadata": {
    "ExecuteTime": {
     "end_time": "2018-10-20T04:33:32.408967Z",
     "start_time": "2018-10-20T04:33:32.403341Z"
    }
   },
   "outputs": [],
   "source": [
    "df_iris_X = ### FILL IN ###\n",
    "df_iris_y = ### FILL IN ###\n",
    "\n",
    "X_train, X_val, X_test, y_train, y_val, y_test = split(df_iris_X, df_iris_y)"
   ]
  },
  {
   "cell_type": "code",
   "execution_count": null,
   "metadata": {
    "ExecuteTime": {
     "end_time": "2018-10-20T04:33:33.199604Z",
     "start_time": "2018-10-20T04:33:33.191350Z"
    }
   },
   "outputs": [],
   "source": [
    "clf = tree.DecisionTreeClassifier()\n",
    "clf"
   ]
  },
  {
   "cell_type": "code",
   "execution_count": null,
   "metadata": {
    "ExecuteTime": {
     "end_time": "2018-10-20T04:33:34.707402Z",
     "start_time": "2018-10-20T04:33:34.700669Z"
    }
   },
   "outputs": [],
   "source": [
    "clf = clf.fit(X_train, y_train)\n",
    "print('Decision Tree train set accuracy: {}'.format(clf.score(X_train, y_train)))\n",
    "print('Decision Tree validation set accuracy: {}'.format(clf.score(X_val, y_val)))"
   ]
  },
  {
   "cell_type": "code",
   "execution_count": null,
   "metadata": {
    "ExecuteTime": {
     "end_time": "2018-10-20T04:35:50.424919Z",
     "start_time": "2018-10-20T04:35:50.382090Z"
    }
   },
   "outputs": [],
   "source": [
    "# Code Isaac used to generate the tree.png file using graphviz\n",
    "\n",
    "# dot_data = tree.export_graphviz(clf, out_file=None, \n",
    "#                          feature_names=df_iris_X.columns,  \n",
    "#                          class_names=df_iris_y,  \n",
    "#                          filled=True, rounded=True,  \n",
    "#                          special_characters=True)  \n",
    "# graph = graphviz.Source(dot_data)  \n",
    "# graph "
   ]
  },
  {
   "cell_type": "code",
   "execution_count": null,
   "metadata": {},
   "outputs": [],
   "source": [
    "img_tree = mpimg.imread('tree.png')\n",
    "\n",
    "plt.figure(figsize=(20,20))\n",
    "plt.imshow(img_tree)"
   ]
  },
  {
   "cell_type": "code",
   "execution_count": null,
   "metadata": {},
   "outputs": [],
   "source": [
    "# Score your current classifier on your test set, after training on the validation set\n",
    "\n",
    "### FILL IN ###\n",
    "### FILL IN ###"
   ]
  }
 ],
 "metadata": {
  "kernelspec": {
   "display_name": "Python 3",
   "language": "python",
   "name": "python3"
  },
  "language_info": {
   "codemirror_mode": {
    "name": "ipython",
    "version": 3
   },
   "file_extension": ".py",
   "mimetype": "text/x-python",
   "name": "python",
   "nbconvert_exporter": "python",
   "pygments_lexer": "ipython3",
   "version": "3.6.5"
  },
  "latex_envs": {
   "LaTeX_envs_menu_present": true,
   "autoclose": false,
   "autocomplete": true,
   "bibliofile": "biblio.bib",
   "cite_by": "apalike",
   "current_citInitial": 1,
   "eqLabelWithNumbers": true,
   "eqNumInitial": 1,
   "hotkeys": {
    "equation": "Ctrl-E",
    "itemize": "Ctrl-I"
   },
   "labels_anchors": false,
   "latex_user_defs": false,
   "report_style_numbering": false,
   "user_envs_cfg": false
  }
 },
 "nbformat": 4,
 "nbformat_minor": 2
}
